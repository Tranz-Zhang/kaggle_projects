{
 "cells": [
  {
   "cell_type": "markdown",
   "metadata": {},
   "source": [
    "## Competition Description\n",
    "The sinking of the RMS Titanic is one of the most infamous shipwrecks in history. On April 15, 1912, during her maiden voyage, the Titanic sank after colliding with an iceberg, killing 1502 out of 2224 passengers and crew. This sensational tragedy shocked the international community and led to better safety regulations for ships.\n",
    "\n",
    "One of the reasons that the shipwreck led to such loss of life was that there were not enough lifeboats for the passengers and crew. Although there was some element of luck involved in surviving the sinking, some groups of people were more likely to survive than others, such as women, children, and the upper-class.\n",
    "\n",
    "In this challenge, we ask you to complete the analysis of what sorts of people were likely to survive. In particular, we ask you to apply the tools of machine learning to predict which passengers survived the tragedy."
   ]
  },
  {
   "cell_type": "code",
   "execution_count": 71,
   "metadata": {},
   "outputs": [],
   "source": [
    "import numpy as np\n",
    "import pandas as pd\n",
    "import matplotlib\n",
    "import matplotlib.pyplot as plt\n",
    "\n",
    "%matplotlib inline"
   ]
  },
  {
   "cell_type": "code",
   "execution_count": 72,
   "metadata": {},
   "outputs": [],
   "source": [
    "train_data = pd.read_csv(\"train.csv\")"
   ]
  },
  {
   "cell_type": "code",
   "execution_count": 73,
   "metadata": {},
   "outputs": [],
   "source": [
    "# 抽离Label项：Survived\n",
    "y_train = train_data[\"Survived\"].copy()\n",
    "x_train = train_data.drop(columns=[\"Survived\"])"
   ]
  },
  {
   "cell_type": "code",
   "execution_count": 74,
   "metadata": {},
   "outputs": [],
   "source": [
    "# 数据预处理 num pipeline\n",
    "from sklearn.base import BaseEstimator\n",
    "class NumberPreprocesser(BaseEstimator):\n",
    "    def fit(self, X, y=None):\n",
    "        return self\n",
    "    def transform(self, X, y=None):\n",
    "        # 数字项：Pclass, Age, SibSp, Parch, Fare\n",
    "        x_num = X[[\"Pclass\", \"Age\", \"Fare\", \"Sex\"]].copy()\n",
    "        # 调整船舱级别数值，越高级数字越高\n",
    "        x_num[\"Pclass\"].replace({1:3, 3:1}, inplace=True)\n",
    "        # Sex 分类转换为数字项\n",
    "        x_num[\"Sex\"].replace({\"male\":0, \"female\":1}, inplace=True)\n",
    "        # 添加计算属性\n",
    "        x_num[\"Parch_b\"] = X[\"Parch\"] > 0\n",
    "        x_num[\"SibSp_b\"] = X[\"SibSp\"] > 0\n",
    "        # x_train_num[\"single_dog\"] = (X[\"Parch\"] == 0) & (X[\"SibSp\"] == 0)\n",
    "        x_num[\"Has_family\"] = (X[\"Parch\"] > 0) | (X[\"SibSp\"] > 0)\n",
    "        return x_num"
   ]
  },
  {
   "cell_type": "code",
   "execution_count": 75,
   "metadata": {},
   "outputs": [],
   "source": [
    "from sklearn.pipeline import Pipeline\n",
    "from sklearn.preprocessing import Imputer\n",
    "num_pipeline = Pipeline([\n",
    "    (\"NumberPreprecess\", NumberPreprocesser()),\n",
    "    (\"Imputer\", Imputer(strategy=\"median\")),\n",
    "    # 考虑这里加上Scaler\n",
    "])\n",
    "# x_train_num = num_pipeline.fit_transform(x_train)\n",
    "# num_attribs = [\"Pclass\", \"Age\", \"Fare\", \"Sex\", \"Parch_b\", \"SibSp_b\", \"Has_family\"]\n",
    "# x_num_df = pd.DataFrame(x_train_num, columns=num_attribs)\n",
    "# x_num_df.info()"
   ]
  },
  {
   "cell_type": "code",
   "execution_count": 76,
   "metadata": {},
   "outputs": [],
   "source": [
    "# 分类数据预处理\n",
    "class CagetoryPreprosser(BaseEstimator):\n",
    "    def fit(self, X, y=None):\n",
    "        return self\n",
    "    def transform(self, X, y=None):\n",
    "        # process Embarked category\n",
    "        embarked = X[[\"Embarked\"]].copy()\n",
    "        embarked = pd.get_dummies(embarked)\n",
    "        # process Cabin\n",
    "        cabin = x_train[\"Cabin\"].copy()\n",
    "        cabin.replace(to_replace=\"A.*\", value=\"A\", regex=True, inplace=True)\n",
    "        cabin.replace(to_replace=\"B.*\", value=\"B\", regex=True, inplace=True)\n",
    "        cabin.replace(to_replace=\"C.*\", value=\"C\", regex=True, inplace=True)\n",
    "        cabin.replace(to_replace=\"D.*\", value=\"D\", regex=True, inplace=True)\n",
    "        cabin.replace(to_replace=\"E.*\", value=\"E\", regex=True, inplace=True)\n",
    "        cabin.replace(to_replace=\"F.*\", value=\"F\", regex=True, inplace=True)\n",
    "        cabin.replace(to_replace=\"G.*\", value=\"G\", regex=True, inplace=True)\n",
    "        cabin.replace(to_replace=\"T.*\", value=\"T\", regex=True, inplace=True)\n",
    "        cabin = pd.get_dummies(cabin)\n",
    "        return np.hstack((embarked.values, cabin.values))"
   ]
  },
  {
   "cell_type": "code",
   "execution_count": 77,
   "metadata": {},
   "outputs": [],
   "source": [
    "cat_pipeline = Pipeline([\n",
    "    (\"CagetoryPreprosser\", CagetoryPreprosser()),\n",
    "])\n",
    "\n",
    "# x_train_cat = cat_pipeline.fit_transform(x_train)\n",
    "# cat_attribs = [\"Embarked_C\",\"Embarked_Q\",\"Embarked_S\",\"Cabin_A\",\"Cabin_B\",\"Cabin_C\",\"Cabin_D\",\"Cabin_E\",\"Cabin_F\",\"Cabin_G\",\"Cabin_T\"]\n",
    "# x_cat_df = pd.DataFrame(x_train_cat, columns = cat_attribs)\n",
    "# x_cat_df.info()"
   ]
  },
  {
   "cell_type": "code",
   "execution_count": 81,
   "metadata": {},
   "outputs": [
    {
     "name": "stdout",
     "output_type": "stream",
     "text": [
      "<class 'pandas.core.frame.DataFrame'>\n",
      "RangeIndex: 891 entries, 0 to 890\n",
      "Data columns (total 18 columns):\n",
      "Pclass        891 non-null float64\n",
      "Age           891 non-null float64\n",
      "Fare          891 non-null float64\n",
      "Sex           891 non-null float64\n",
      "Parch_b       891 non-null float64\n",
      "SibSp_b       891 non-null float64\n",
      "Has_family    891 non-null float64\n",
      "Embarked_C    891 non-null float64\n",
      "Embarked_Q    891 non-null float64\n",
      "Embarked_S    891 non-null float64\n",
      "Cabin_A       891 non-null float64\n",
      "Cabin_B       891 non-null float64\n",
      "Cabin_C       891 non-null float64\n",
      "Cabin_D       891 non-null float64\n",
      "Cabin_E       891 non-null float64\n",
      "Cabin_F       891 non-null float64\n",
      "Cabin_G       891 non-null float64\n",
      "Cabin_T       891 non-null float64\n",
      "dtypes: float64(18)\n",
      "memory usage: 125.4 KB\n"
     ]
    }
   ],
   "source": [
    "# 数据预处理 Full  pipeline\n",
    "from sklearn.pipeline import FeatureUnion\n",
    "full_pipeline = FeatureUnion(transformer_list=[\n",
    "    (\"num_pipeline\", num_pipeline),\n",
    "    (\"cat_pipeline\", cat_pipeline),\n",
    "])\n",
    "x_train_prepared = full_pipeline.fit_transform(x_train)\n",
    "full_attribs = num_attribs + cat_attribs\n",
    "x_prepared_df = pd.DataFrame(x_train_prepared, columns = full_attribs)\n",
    "x_prepared_df.info()"
   ]
  },
  {
   "cell_type": "code",
   "execution_count": 82,
   "metadata": {},
   "outputs": [
    {
     "data": {
      "text/html": [
       "<div>\n",
       "<style scoped>\n",
       "    .dataframe tbody tr th:only-of-type {\n",
       "        vertical-align: middle;\n",
       "    }\n",
       "\n",
       "    .dataframe tbody tr th {\n",
       "        vertical-align: top;\n",
       "    }\n",
       "\n",
       "    .dataframe thead th {\n",
       "        text-align: right;\n",
       "    }\n",
       "</style>\n",
       "<table border=\"1\" class=\"dataframe\">\n",
       "  <thead>\n",
       "    <tr style=\"text-align: right;\">\n",
       "      <th></th>\n",
       "      <th>Pclass</th>\n",
       "      <th>Age</th>\n",
       "      <th>Fare</th>\n",
       "      <th>Sex</th>\n",
       "      <th>Parch_b</th>\n",
       "      <th>SibSp_b</th>\n",
       "      <th>Has_family</th>\n",
       "      <th>Embarked_C</th>\n",
       "      <th>Embarked_Q</th>\n",
       "      <th>Embarked_S</th>\n",
       "      <th>Cabin_A</th>\n",
       "      <th>Cabin_B</th>\n",
       "      <th>Cabin_C</th>\n",
       "      <th>Cabin_D</th>\n",
       "      <th>Cabin_E</th>\n",
       "      <th>Cabin_F</th>\n",
       "      <th>Cabin_G</th>\n",
       "      <th>Cabin_T</th>\n",
       "    </tr>\n",
       "  </thead>\n",
       "  <tbody>\n",
       "    <tr>\n",
       "      <th>0</th>\n",
       "      <td>1.0</td>\n",
       "      <td>22.0</td>\n",
       "      <td>7.2500</td>\n",
       "      <td>0.0</td>\n",
       "      <td>0.0</td>\n",
       "      <td>1.0</td>\n",
       "      <td>1.0</td>\n",
       "      <td>0.0</td>\n",
       "      <td>0.0</td>\n",
       "      <td>1.0</td>\n",
       "      <td>0.0</td>\n",
       "      <td>0.0</td>\n",
       "      <td>0.0</td>\n",
       "      <td>0.0</td>\n",
       "      <td>0.0</td>\n",
       "      <td>0.0</td>\n",
       "      <td>0.0</td>\n",
       "      <td>0.0</td>\n",
       "    </tr>\n",
       "    <tr>\n",
       "      <th>1</th>\n",
       "      <td>3.0</td>\n",
       "      <td>38.0</td>\n",
       "      <td>71.2833</td>\n",
       "      <td>1.0</td>\n",
       "      <td>0.0</td>\n",
       "      <td>1.0</td>\n",
       "      <td>1.0</td>\n",
       "      <td>1.0</td>\n",
       "      <td>0.0</td>\n",
       "      <td>0.0</td>\n",
       "      <td>0.0</td>\n",
       "      <td>0.0</td>\n",
       "      <td>1.0</td>\n",
       "      <td>0.0</td>\n",
       "      <td>0.0</td>\n",
       "      <td>0.0</td>\n",
       "      <td>0.0</td>\n",
       "      <td>0.0</td>\n",
       "    </tr>\n",
       "    <tr>\n",
       "      <th>2</th>\n",
       "      <td>1.0</td>\n",
       "      <td>26.0</td>\n",
       "      <td>7.9250</td>\n",
       "      <td>1.0</td>\n",
       "      <td>0.0</td>\n",
       "      <td>0.0</td>\n",
       "      <td>0.0</td>\n",
       "      <td>0.0</td>\n",
       "      <td>0.0</td>\n",
       "      <td>1.0</td>\n",
       "      <td>0.0</td>\n",
       "      <td>0.0</td>\n",
       "      <td>0.0</td>\n",
       "      <td>0.0</td>\n",
       "      <td>0.0</td>\n",
       "      <td>0.0</td>\n",
       "      <td>0.0</td>\n",
       "      <td>0.0</td>\n",
       "    </tr>\n",
       "    <tr>\n",
       "      <th>3</th>\n",
       "      <td>3.0</td>\n",
       "      <td>35.0</td>\n",
       "      <td>53.1000</td>\n",
       "      <td>1.0</td>\n",
       "      <td>0.0</td>\n",
       "      <td>1.0</td>\n",
       "      <td>1.0</td>\n",
       "      <td>0.0</td>\n",
       "      <td>0.0</td>\n",
       "      <td>1.0</td>\n",
       "      <td>0.0</td>\n",
       "      <td>0.0</td>\n",
       "      <td>1.0</td>\n",
       "      <td>0.0</td>\n",
       "      <td>0.0</td>\n",
       "      <td>0.0</td>\n",
       "      <td>0.0</td>\n",
       "      <td>0.0</td>\n",
       "    </tr>\n",
       "    <tr>\n",
       "      <th>4</th>\n",
       "      <td>1.0</td>\n",
       "      <td>35.0</td>\n",
       "      <td>8.0500</td>\n",
       "      <td>0.0</td>\n",
       "      <td>0.0</td>\n",
       "      <td>0.0</td>\n",
       "      <td>0.0</td>\n",
       "      <td>0.0</td>\n",
       "      <td>0.0</td>\n",
       "      <td>1.0</td>\n",
       "      <td>0.0</td>\n",
       "      <td>0.0</td>\n",
       "      <td>0.0</td>\n",
       "      <td>0.0</td>\n",
       "      <td>0.0</td>\n",
       "      <td>0.0</td>\n",
       "      <td>0.0</td>\n",
       "      <td>0.0</td>\n",
       "    </tr>\n",
       "  </tbody>\n",
       "</table>\n",
       "</div>"
      ],
      "text/plain": [
       "   Pclass   Age     Fare  Sex  Parch_b  SibSp_b  Has_family  Embarked_C  \\\n",
       "0     1.0  22.0   7.2500  0.0      0.0      1.0         1.0         0.0   \n",
       "1     3.0  38.0  71.2833  1.0      0.0      1.0         1.0         1.0   \n",
       "2     1.0  26.0   7.9250  1.0      0.0      0.0         0.0         0.0   \n",
       "3     3.0  35.0  53.1000  1.0      0.0      1.0         1.0         0.0   \n",
       "4     1.0  35.0   8.0500  0.0      0.0      0.0         0.0         0.0   \n",
       "\n",
       "   Embarked_Q  Embarked_S  Cabin_A  Cabin_B  Cabin_C  Cabin_D  Cabin_E  \\\n",
       "0         0.0         1.0      0.0      0.0      0.0      0.0      0.0   \n",
       "1         0.0         0.0      0.0      0.0      1.0      0.0      0.0   \n",
       "2         0.0         1.0      0.0      0.0      0.0      0.0      0.0   \n",
       "3         0.0         1.0      0.0      0.0      1.0      0.0      0.0   \n",
       "4         0.0         1.0      0.0      0.0      0.0      0.0      0.0   \n",
       "\n",
       "   Cabin_F  Cabin_G  Cabin_T  \n",
       "0      0.0      0.0      0.0  \n",
       "1      0.0      0.0      0.0  \n",
       "2      0.0      0.0      0.0  \n",
       "3      0.0      0.0      0.0  \n",
       "4      0.0      0.0      0.0  "
      ]
     },
     "execution_count": 82,
     "metadata": {},
     "output_type": "execute_result"
    }
   ],
   "source": [
    "x_prepared_df.head()"
   ]
  },
  {
   "cell_type": "code",
   "execution_count": 84,
   "metadata": {},
   "outputs": [
    {
     "name": "stderr",
     "output_type": "stream",
     "text": [
      "/usr/local/lib/python3.6/site-packages/sklearn/linear_model/stochastic_gradient.py:128: FutureWarning: max_iter and tol parameters have been added in <class 'sklearn.linear_model.stochastic_gradient.SGDClassifier'> in 0.19. If both are left unset, they default to max_iter=5 and tol=None. If tol is not None, max_iter defaults to max_iter=1000. From 0.21, default max_iter will be 1000, and default tol will be 1e-3.\n",
      "  \"and default tol will be 1e-3.\" % type(self), FutureWarning)\n"
     ]
    },
    {
     "data": {
      "text/plain": [
       "SGDClassifier(alpha=0.0001, average=False, class_weight=None, epsilon=0.1,\n",
       "       eta0=0.0, fit_intercept=True, l1_ratio=0.15,\n",
       "       learning_rate='optimal', loss='hinge', max_iter=None, n_iter=None,\n",
       "       n_jobs=1, penalty='l2', power_t=0.5, random_state=None,\n",
       "       shuffle=True, tol=None, verbose=0, warm_start=False)"
      ]
     },
     "execution_count": 84,
     "metadata": {},
     "output_type": "execute_result"
    }
   ],
   "source": [
    "# SGDClassifier\n",
    "from sklearn.linear_model import SGDClassifier\n",
    "sgd_clf = SGDClassifier()\n",
    "sgd_clf.fit(x_train_prepared, y_train)"
   ]
  },
  {
   "cell_type": "code",
   "execution_count": 88,
   "metadata": {},
   "outputs": [
    {
     "name": "stdout",
     "output_type": "stream",
     "text": [
      "Prediction:  0.6161616161616161\n"
     ]
    }
   ],
   "source": [
    "test_predict = sgd_clf.predict(x_train_prepared)\n",
    "num_correct = sum(test_predict == y_train)\n",
    "print(\"Prediction: \", num_correct / len(y_train))"
   ]
  },
  {
   "cell_type": "code",
   "execution_count": null,
   "metadata": {},
   "outputs": [],
   "source": [
    "# Cross Validation"
   ]
  }
 ],
 "metadata": {
  "kernelspec": {
   "display_name": "Python 3",
   "language": "python",
   "name": "python3"
  },
  "language_info": {
   "codemirror_mode": {
    "name": "ipython",
    "version": 3
   },
   "file_extension": ".py",
   "mimetype": "text/x-python",
   "name": "python",
   "nbconvert_exporter": "python",
   "pygments_lexer": "ipython3",
   "version": "3.6.5"
  }
 },
 "nbformat": 4,
 "nbformat_minor": 2
}
